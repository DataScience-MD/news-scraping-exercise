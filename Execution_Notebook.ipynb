{
  "nbformat": 4,
  "nbformat_minor": 0,
  "metadata": {
    "colab": {
      "name": "MST698S_news-scraping-exercise.ipynb",
      "provenance": [],
      "mount_file_id": "https://github.com/PurpleDin0/news-scraping-exercise/blob/master/Execution_Notebook.ipynb",
      "authorship_tag": "ABX9TyPIPmr0pxoaZjhKCo1ASPrt",
      "include_colab_link": true
    },
    "kernelspec": {
      "name": "python3",
      "display_name": "Python 3"
    }
  },
  "cells": [
    {
      "cell_type": "markdown",
      "metadata": {
        "id": "view-in-github",
        "colab_type": "text"
      },
      "source": [
        "<a href=\"https://colab.research.google.com/github/PurpleDin0/news-scraping-exercise/blob/master/Execution_Notebook.ipynb\" target=\"_parent\"><img src=\"https://colab.research.google.com/assets/colab-badge.svg\" alt=\"Open In Colab\"/></a>"
      ]
    },
    {
      "cell_type": "markdown",
      "metadata": {
        "id": "9jIVlByg4YiE",
        "colab_type": "text"
      },
      "source": [
        "# MST 698S - Data Science Tools And Techniques \n",
        "# Bad Ozone Grasshoppers - News Scrapper Exercise\n",
        "\n",
        "Summary: \n",
        "\n",
        "Usage Details: This Notebook is desigened to be run in the [Google Colab environment](https://colab.research.google.com/). However, it should work in any Jupyter Notebooks or Jupyter Lab environment.  The main purpose of the notebook is to install relevant python libraries, execute the web scrapping code, and save the output to a cloud repository.  "
      ]
    },
    {
      "cell_type": "markdown",
      "metadata": {
        "id": "xIUL-n5N6Q3i",
        "colab_type": "text"
      },
      "source": [
        "## Initialize the Environment \n",
        "1. Clone the github repo [located here](https://github.com/PurpleDin0/news-scraping-exercise).  \n",
        "2. Install all required dependancies.  This is best done by storing all dependices to a `requirements.txt` in the github repo file and running a `pip install` for using that file.  \n",
        "```\n",
        "!pip install -r requirements.txt\n",
        "```\n",
        "3. Install the webdrivers for selenium   \n",
        "this is needed as Google Colab does not have a web browser to drive selenium.   \n",
        "\n"
      ]
    },
    {
      "cell_type": "code",
      "metadata": {
        "id": "T0VazU_nLuJo",
        "colab_type": "code",
        "colab": {
          "base_uri": "https://localhost:8080/",
          "height": 50
        },
        "outputId": "d1959c3a-653d-46a8-922e-8f867aa09f1d"
      },
      "source": [
        "## Run this block to delete the news scraping exercise repo and download any updates\n",
        "%cd /content/\n",
        "!rm -r /content/news-scraping-exercise"
      ],
      "execution_count": 17,
      "outputs": [
        {
          "output_type": "stream",
          "text": [
            "/content\n",
            "rm: cannot remove '/content/news-scraping-exercise': No such file or directory\n"
          ],
          "name": "stdout"
        }
      ]
    },
    {
      "cell_type": "code",
      "metadata": {
        "id": "EAx6SKzRtQ_j",
        "colab_type": "code",
        "outputId": "b3908089-a600-4f0e-adf1-29c95bc7b6b5",
        "colab": {
          "base_uri": "https://localhost:8080/",
          "height": 293
        }
      },
      "source": [
        "# Navigate the working directory in colab to \"/content\" \n",
        "%cd /content/\n",
        "# First clone the relevant github repo\n",
        "!git clone https://github.com/PurpleDin0/news-scraping-exercise.git\n",
        "# Navigate to the newly created repo folder\n",
        "%cd /content/news-scraping-exercise\n",
        "# install all required python libraries\n",
        "!pip install -r requirements.txt\n",
        "# Once installed make sure to restart the runtime (if needed)"
      ],
      "execution_count": 18,
      "outputs": [
        {
          "output_type": "stream",
          "text": [
            "/content\n",
            "Cloning into 'news-scraping-exercise'...\n",
            "remote: Enumerating objects: 24, done.\u001b[K\n",
            "remote: Counting objects: 100% (24/24), done.\u001b[K\n",
            "remote: Compressing objects: 100% (23/23), done.\u001b[K\n",
            "remote: Total 24 (delta 8), reused 0 (delta 0), pack-reused 0\u001b[K\n",
            "Unpacking objects: 100% (24/24), done.\n",
            "/content/news-scraping-exercise\n",
            "Requirement already satisfied: selenium==3.141.0 in /usr/local/lib/python3.6/dist-packages (from -r requirements.txt (line 1)) (3.141.0)\n",
            "Requirement already satisfied: beautifulsoup4==4.8.0 in /usr/local/lib/python3.6/dist-packages (from -r requirements.txt (line 2)) (4.8.0)\n",
            "Requirement already satisfied: requests==2.23.0 in /usr/local/lib/python3.6/dist-packages (from -r requirements.txt (line 3)) (2.23.0)\n",
            "Requirement already satisfied: lxml==4.5.0 in /usr/local/lib/python3.6/dist-packages (from -r requirements.txt (line 4)) (4.5.0)\n",
            "Requirement already satisfied: urllib3 in /usr/local/lib/python3.6/dist-packages (from selenium==3.141.0->-r requirements.txt (line 1)) (1.24.3)\n",
            "Requirement already satisfied: soupsieve>=1.2 in /usr/local/lib/python3.6/dist-packages (from beautifulsoup4==4.8.0->-r requirements.txt (line 2)) (2.0)\n",
            "Requirement already satisfied: certifi>=2017.4.17 in /usr/local/lib/python3.6/dist-packages (from requests==2.23.0->-r requirements.txt (line 3)) (2020.4.5.1)\n",
            "Requirement already satisfied: idna<3,>=2.5 in /usr/local/lib/python3.6/dist-packages (from requests==2.23.0->-r requirements.txt (line 3)) (2.9)\n",
            "Requirement already satisfied: chardet<4,>=3.0.2 in /usr/local/lib/python3.6/dist-packages (from requests==2.23.0->-r requirements.txt (line 3)) (3.0.4)\n"
          ],
          "name": "stdout"
        }
      ]
    },
    {
      "cell_type": "code",
      "metadata": {
        "id": "Ar9SZueTSguN",
        "colab_type": "code",
        "colab": {
          "base_uri": "https://localhost:8080/",
          "height": 310
        },
        "outputId": "87a75886-ba39-4a36-a0df-7f7380d22a01"
      },
      "source": [
        "# Install the Chromium webdriver so Selenium can work\n",
        "!apt-get update # to update ubuntu to correctly run apt install\n",
        "!apt install chromium-chromedriver\n",
        "!cp /usr/lib/chromium-browser/chromedriver /usr/bin\n",
        "import sys\n",
        "sys.path.insert(0,'/usr/lib/chromium-browser/chromedriver')\n",
        "from selenium import webdriver\n"
      ],
      "execution_count": 29,
      "outputs": [
        {
          "output_type": "stream",
          "text": [
            "\r0% [Working]\r            \rHit:1 https://cloud.r-project.org/bin/linux/ubuntu bionic-cran35/ InRelease\n",
            "Hit:2 http://security.ubuntu.com/ubuntu bionic-security InRelease\n",
            "Hit:3 http://ppa.launchpad.net/graphics-drivers/ppa/ubuntu bionic InRelease\n",
            "Ign:4 https://developer.download.nvidia.com/compute/cuda/repos/ubuntu1804/x86_64  InRelease\n",
            "Hit:5 http://archive.ubuntu.com/ubuntu bionic InRelease\n",
            "Ign:6 https://developer.download.nvidia.com/compute/machine-learning/repos/ubuntu1804/x86_64  InRelease\n",
            "Hit:7 https://developer.download.nvidia.com/compute/cuda/repos/ubuntu1804/x86_64  Release\n",
            "Hit:8 http://archive.ubuntu.com/ubuntu bionic-updates InRelease\n",
            "Hit:9 http://ppa.launchpad.net/marutter/c2d4u3.5/ubuntu bionic InRelease\n",
            "Hit:10 https://developer.download.nvidia.com/compute/machine-learning/repos/ubuntu1804/x86_64  Release\n",
            "Hit:12 http://archive.ubuntu.com/ubuntu bionic-backports InRelease\n",
            "Reading package lists... Done\n",
            "Reading package lists... Done\n",
            "Building dependency tree       \n",
            "Reading state information... Done\n",
            "chromium-chromedriver is already the newest version (81.0.4044.138-0ubuntu0.18.04.1).\n",
            "0 upgraded, 0 newly installed, 0 to remove and 53 not upgraded.\n",
            "cp: '/usr/lib/chromium-browser/chromedriver' and '/usr/bin/chromedriver' are the same file\n"
          ],
          "name": "stdout"
        }
      ]
    },
    {
      "cell_type": "markdown",
      "metadata": {
        "id": "kkmccT65aWZI",
        "colab_type": "text"
      },
      "source": [
        "## Run the reuters news scrapper"
      ]
    },
    {
      "cell_type": "code",
      "metadata": {
        "id": "nIBFctbfvK7m",
        "colab_type": "code",
        "outputId": "7fcd2aee-addc-477f-eaa0-b25fcfd2521d",
        "colab": {
          "base_uri": "https://localhost:8080/",
          "height": 66
        }
      },
      "source": [
        "!python3 news_reuters.py"
      ],
      "execution_count": 31,
      "outputs": [
        {
          "output_type": "stream",
          "text": [
            "Getting Reuters articles...\n",
            "Unable to decode...skipping article...\n",
            "Saving news object...\n"
          ],
          "name": "stdout"
        }
      ]
    },
    {
      "cell_type": "markdown",
      "metadata": {
        "id": "ZJuAL-4CacVi",
        "colab_type": "text"
      },
      "source": [
        "## Export the reuters news dump\n",
        "NOTE: the news dump is saved as a JSON as it is more secure then a pickle file\n",
        "* [] TODO: update code to use JSON instead of pickle"
      ]
    },
    {
      "cell_type": "code",
      "metadata": {
        "id": "IYtKLMugbR8v",
        "colab_type": "code",
        "colab": {}
      },
      "source": [
        "import pandas as pd"
      ],
      "execution_count": 0,
      "outputs": []
    },
    {
      "cell_type": "code",
      "metadata": {
        "id": "F0hjNRUxc-jE",
        "colab_type": "code",
        "colab": {}
      },
      "source": [
        "pickle_path = os.path.join(os.getcwd(), 'news_dump_object.pkl')\n",
        "df = pd.DataFrame(pd.read_pickle(pickle_path))"
      ],
      "execution_count": 0,
      "outputs": []
    },
    {
      "cell_type": "code",
      "metadata": {
        "id": "CC8yCGjYdR6V",
        "colab_type": "code",
        "colab": {}
      },
      "source": [
        "json_file_path = os.path.join(os.getcwd(), 'news_dump_object.json')\n",
        "#with open(save_path, 'wb') as json_file:\n",
        "df.to_json(json_file_path)"
      ],
      "execution_count": 0,
      "outputs": []
    },
    {
      "cell_type": "code",
      "metadata": {
        "id": "-eNmw4hfTV3I",
        "colab_type": "code",
        "colab": {
          "base_uri": "https://localhost:8080/",
          "height": 33
        },
        "outputId": "83c8aa11-e196-4894-a216-72dd5b062e73"
      },
      "source": [
        "#mount your google drive\n",
        "from google.colab import drive\n",
        "drive.mount('/content/drive')"
      ],
      "execution_count": 236,
      "outputs": [
        {
          "output_type": "stream",
          "text": [
            "Drive already mounted at /content/drive; to attempt to forcibly remount, call drive.mount(\"/content/drive\", force_remount=True).\n"
          ],
          "name": "stdout"
        }
      ]
    },
    {
      "cell_type": "code",
      "metadata": {
        "id": "OudHxI0vTvwB",
        "colab_type": "code",
        "colab": {}
      },
      "source": [
        "#export all files to your google drive *CHANGE PATH to where you want to save the files\n",
        "!cp /content/news-scraping-exercise/news_dump_object* '/content/drive/My Drive/Colab Notebooks/Coursework/698S/news-scraping-exercise'"
      ],
      "execution_count": 0,
      "outputs": []
    },
    {
      "cell_type": "markdown",
      "metadata": {
        "id": "-flkmEIxQX7h",
        "colab_type": "text"
      },
      "source": [
        "#Advanced stuff we probably don't want to mess with\n",
        "The below sections are draft for using SSH and CLI Git commands to push and pull info to a github repo."
      ]
    },
    {
      "cell_type": "markdown",
      "metadata": {
        "id": "KTwBa0H0R4O-",
        "colab_type": "text"
      },
      "source": [
        "## Use pythongit library to programtically execute git commands\n",
        "https://gitpython.readthedocs.io/en/stable/tutorial.html#tutorial-label "
      ]
    },
    {
      "cell_type": "code",
      "metadata": {
        "id": "i5BPyqo3kbk6",
        "colab_type": "code",
        "colab": {
          "base_uri": "https://localhost:8080/",
          "height": 180
        },
        "outputId": "dc928f99-c423-400d-d3d4-f1c7f9bc2968"
      },
      "source": [
        "!pip install gitpython"
      ],
      "execution_count": 49,
      "outputs": [
        {
          "output_type": "stream",
          "text": [
            "Collecting gitpython\n",
            "\u001b[?25l  Downloading https://files.pythonhosted.org/packages/44/33/917e6fde1cad13daa7053f39b7c8af3be287314f75f1b1ea8d3fe37a8571/GitPython-3.1.2-py3-none-any.whl (451kB)\n",
            "\u001b[K     |████████████████████████████████| 460kB 2.7MB/s \n",
            "\u001b[?25hCollecting gitdb<5,>=4.0.1\n",
            "\u001b[?25l  Downloading https://files.pythonhosted.org/packages/48/11/d1800bca0a3bae820b84b7d813ad1eff15a48a64caea9c823fc8c1b119e8/gitdb-4.0.5-py3-none-any.whl (63kB)\n",
            "\u001b[K     |████████████████████████████████| 71kB 6.6MB/s \n",
            "\u001b[?25hCollecting smmap<4,>=3.0.1\n",
            "  Downloading https://files.pythonhosted.org/packages/b0/9a/4d409a6234eb940e6a78dfdfc66156e7522262f5f2fecca07dc55915952d/smmap-3.0.4-py2.py3-none-any.whl\n",
            "Installing collected packages: smmap, gitdb, gitpython\n",
            "Successfully installed gitdb-4.0.5 gitpython-3.1.2 smmap-3.0.4\n"
          ],
          "name": "stdout"
        }
      ]
    },
    {
      "cell_type": "code",
      "metadata": {
        "id": "mkw1E1Akl4ZR",
        "colab_type": "code",
        "colab": {}
      },
      "source": [
        "import git\n"
      ],
      "execution_count": 0,
      "outputs": []
    },
    {
      "cell_type": "code",
      "metadata": {
        "id": "HX3kJESMmEcc",
        "colab_type": "code",
        "colab": {
          "base_uri": "https://localhost:8080/",
          "height": 50
        },
        "outputId": "2d10d9bc-87a4-4b7c-c820-13bdf4360db8"
      },
      "source": [
        "%cd /content/news-scraping-exercise/\n",
        "repo = git.Repo() #initializes the repo in the current working directory\n",
        "print repo.git.add(json_file_path)"
      ],
      "execution_count": 59,
      "outputs": [
        {
          "output_type": "stream",
          "text": [
            "/content/news-scraping-exercise\n"
          ],
          "name": "stdout"
        },
        {
          "output_type": "execute_result",
          "data": {
            "text/plain": [
              "''"
            ]
          },
          "metadata": {
            "tags": []
          },
          "execution_count": 59
        }
      ]
    },
    {
      "cell_type": "code",
      "metadata": {
        "id": "7zT8tny6nrHw",
        "colab_type": "code",
        "colab": {
          "base_uri": "https://localhost:8080/",
          "height": 293
        },
        "outputId": "0171df7a-5762-4990-bff5-e70b9bb6df41"
      },
      "source": [
        "print(repo.git.status())"
      ],
      "execution_count": 64,
      "outputs": [
        {
          "output_type": "stream",
          "text": [
            "On branch master\n",
            "Your branch is ahead of 'origin/master' by 1 commit.\n",
            "  (use \"git push\" to publish your local commits)\n",
            "\n",
            "Changes not staged for commit:\n",
            "  (use \"git add <file>...\" to update what will be committed)\n",
            "  (use \"git checkout -- <file>...\" to discard changes in working directory)\n",
            "\n",
            "\tmodified:   news_dump_object.pkl\n",
            "\tmodified:   news_reuters.py\n",
            "\n",
            "Untracked files:\n",
            "  (use \"git add <file>...\" to include in what will be committed)\n",
            "\n",
            "\tgeckodriver.log\n",
            "\n",
            "no changes added to commit (use \"git add\" and/or \"git commit -a\")\n"
          ],
          "name": "stdout"
        }
      ]
    },
    {
      "cell_type": "code",
      "metadata": {
        "id": "DcB1dLcOmzuR",
        "colab_type": "code",
        "colab": {
          "base_uri": "https://localhost:8080/",
          "height": 33
        },
        "outputId": "0dbb5767-a815-4248-eec1-e860d36a00ed"
      },
      "source": [
        "repo.git.commit( m='updated JSON news dump with new articles' )"
      ],
      "execution_count": 63,
      "outputs": [
        {
          "output_type": "execute_result",
          "data": {
            "text/plain": [
              "'[master 565227e] updated JSON news dump with new articles\\n 1 file changed, 1 insertion(+)\\n create mode 100644 news_dump_object.json'"
            ]
          },
          "metadata": {
            "tags": []
          },
          "execution_count": 63
        }
      ]
    },
    {
      "cell_type": "code",
      "metadata": {
        "id": "ZaGPkxkInV_s",
        "colab_type": "code",
        "colab": {}
      },
      "source": [
        "import git\n",
        "repo = git.Repo( '/home/me/repodir' )\n",
        "print repo.git.status()\n",
        "# checkout and track a remote branch\n",
        "print repo.git.checkout( 'origin/somebranch', b='somebranch' )\n",
        "# add a file\n",
        "print repo.git.add( 'somefile' )\n",
        "# commit\n",
        "print repo.git.commit( m='my commit message' )\n",
        "# now we are one commit ahead\n",
        "print repo.git.status()"
      ],
      "execution_count": 0,
      "outputs": []
    },
    {
      "cell_type": "markdown",
      "metadata": {
        "id": "y1haNjyJQE2i",
        "colab_type": "text"
      },
      "source": [
        "## Create an SSH key to use in github\n"
      ]
    },
    {
      "cell_type": "code",
      "metadata": {
        "id": "xs9dFNm8vACp",
        "colab_type": "code",
        "colab": {}
      },
      "source": [
        "#create an SSH key\n",
        "!ssh-keygen -t rsa -b 4096 -C \"Barney.Ales@gmail.com\""
      ],
      "execution_count": 0,
      "outputs": []
    },
    {
      "cell_type": "markdown",
      "metadata": {
        "id": "GTKW5gJ7N18R",
        "colab_type": "text"
      },
      "source": [
        "## Push changes to github using Colab\n",
        "The below section loads an SSH key from google drive and then connects to git hub to push any modifications directly to the repo.\n",
        "  **NOTE: this section is not ready for prime time.\n",
        "* Main issue is the SSH commands are not executing or keeping the passphrase for the keys resident in memory.  This can be bypassed by running `!SSH /bin/bash/` then loading the SSH key using `ssh-add /root/.ssh/PurpleDin0_Colab_github.ssh`\n"
      ]
    },
    {
      "cell_type": "code",
      "metadata": {
        "id": "Bec8H5tP-hJT",
        "colab_type": "code",
        "outputId": "92c9bb4c-5296-4e16-a289-1791e0b95d07",
        "colab": {
          "base_uri": "https://localhost:8080/",
          "height": 50
        }
      },
      "source": [
        "!git config --global user.email \"Barney.Ales@gmail.com\"\n",
        "!git config --global user.name \"PurpleDin0\"\""
      ],
      "execution_count": 0,
      "outputs": [
        {
          "output_type": "stream",
          "text": [
            "/bin/bash: -c: line 0: unexpected EOF while looking for matching `\"'\n",
            "/bin/bash: -c: line 1: syntax error: unexpected end of file\n"
          ],
          "name": "stdout"
        }
      ]
    },
    {
      "cell_type": "code",
      "metadata": {
        "id": "NXfji8jSszfq",
        "colab_type": "code",
        "colab": {
          "base_uri": "https://localhost:8080/",
          "height": 50
        },
        "outputId": "7d8ce0e6-76cb-4d2c-e87f-f1cb4c574551"
      },
      "source": [
        "!git config --global -l"
      ],
      "execution_count": 176,
      "outputs": [
        {
          "output_type": "stream",
          "text": [
            "user.email=Barney.Ales@gmail.com\n",
            "user.name=PurpleDin0\n"
          ],
          "name": "stdout"
        }
      ]
    },
    {
      "cell_type": "code",
      "metadata": {
        "id": "DvDudlw1wQqo",
        "colab_type": "code",
        "colab": {
          "base_uri": "https://localhost:8080/",
          "height": 33
        },
        "outputId": "8bc22b0c-9264-4414-e4b3-00f9b374bbc2"
      },
      "source": [
        "#launch the SSH\n",
        "!eval \"$(ssh-agent -s)\"\n",
        "git push git@github.com:PurpleDin0/news-scraping-exercise.git"
      ],
      "execution_count": 115,
      "outputs": [
        {
          "output_type": "stream",
          "text": [
            "Agent pid 4755\n"
          ],
          "name": "stdout"
        }
      ]
    },
    {
      "cell_type": "code",
      "metadata": {
        "id": "V6TGj2kh7HC-",
        "colab_type": "code",
        "colab": {}
      },
      "source": [
        "!ssh-agent /bin/bash"
      ],
      "execution_count": 0,
      "outputs": []
    },
    {
      "cell_type": "code",
      "metadata": {
        "id": "d6HZODB9wXNz",
        "colab_type": "code",
        "colab": {
          "base_uri": "https://localhost:8080/",
          "height": 33
        },
        "outputId": "96c2924e-28b3-4329-9dde-df9bfc10ab87"
      },
      "source": [
        "#Add your SSH private key to the ssh-agent. If you created your key with a different name, or if you are adding an existing key that has a different name, replace with the name of your private key file.\n",
        "!ssh-add /root/.ssh/id_rsa_PurpleDin0_Colab_github.ssh"
      ],
      "execution_count": 209,
      "outputs": [
        {
          "output_type": "stream",
          "text": [
            "Could not open a connection to your authentication agent.\n"
          ],
          "name": "stdout"
        }
      ]
    },
    {
      "cell_type": "code",
      "metadata": {
        "id": "7K56wgSswz9j",
        "colab_type": "code",
        "colab": {}
      },
      "source": [
        "#copy your SSH keys and config files from google drive into Colab workspace\n",
        "# [] code needs to be modified to move all files in one line (recursive cp)\n",
        "%mkdir ~/.ssh/\n",
        "!cp /content/drive/My\\ Drive/Secure/PurpleDin0_Colab_github.ssh ~/.ssh/\n",
        "!cp /content/drive/My\\ Drive/Secure/PurpleDin0_Colab_github.ssh ~/.ssh/\n",
        "!cp /content/drive/My\\ Drive/Secure/config ~/.ssh/\n",
        "%ls /root/.ssh/ -all"
      ],
      "execution_count": 0,
      "outputs": []
    },
    {
      "cell_type": "code",
      "metadata": {
        "id": "cHD64PTq2NL4",
        "colab_type": "code",
        "colab": {
          "base_uri": "https://localhost:8080/",
          "height": 66
        },
        "outputId": "0ee34395-e99a-4300-8ca3-b7d1a7356faf"
      },
      "source": [
        "#ensure the ssh key folder contains the correct permisions \n",
        "!chmod 700 /root/.ssh/\n",
        "# Add the git server as a known ssh host\n",
        "!touch /root/.ssh/known_hosts\n",
        "!ssh-keyscan github.com >> /root/.ssh/known_hosts\n",
        "!chmod 644 /root/.ssh/known_hosts"
      ],
      "execution_count": 147,
      "outputs": [
        {
          "output_type": "stream",
          "text": [
            "# github.com:22 SSH-2.0-babeld-6d6fef33\n",
            "# github.com:22 SSH-2.0-babeld-6d6fef33\n",
            "# github.com:22 SSH-2.0-babeld-6d6fef33\n"
          ],
          "name": "stdout"
        }
      ]
    },
    {
      "cell_type": "markdown",
      "metadata": {
        "id": "2W7bn3Uz4vNP",
        "colab_type": "text"
      },
      "source": [
        "Sources & references:  \n",
        "Using GIt with Colab via SSH - https://techsupportallbugs.wordpress.com/2018/06/05/using-git-with-colab-via-ssh/\n"
      ]
    }
  ]
}